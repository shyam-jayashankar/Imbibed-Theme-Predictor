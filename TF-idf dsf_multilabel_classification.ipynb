{
 "cells": [
  {
   "cell_type": "code",
   "execution_count": 1,
   "metadata": {
    "colab": {
     "base_uri": "https://localhost:8080/"
    },
    "executionInfo": {
     "elapsed": 19357,
     "status": "ok",
     "timestamp": 1638459445286,
     "user": {
      "displayName": "Mathur Jayashan Shyam Shankar",
      "photoUrl": "https://lh3.googleusercontent.com/a/default-user=s64",
      "userId": "14853657899136104314"
     },
     "user_tz": 300
    },
    "id": "_afS6ZNep6zf",
    "outputId": "e9fafe57-48e4-4375-e4a1-c1be2932c75e"
   },
   "outputs": [
    {
     "name": "stdout",
     "output_type": "stream",
     "text": [
      "Mounted at /content/drive\n"
     ]
    }
   ],
   "source": [
    "from google.colab import drive\n",
    "drive.mount('/content/drive')"
   ]
  },
  {
   "cell_type": "code",
   "execution_count": 5,
   "metadata": {
    "executionInfo": {
     "elapsed": 159,
     "status": "ok",
     "timestamp": 1638459499436,
     "user": {
      "displayName": "Mathur Jayashan Shyam Shankar",
      "photoUrl": "https://lh3.googleusercontent.com/a/default-user=s64",
      "userId": "14853657899136104314"
     },
     "user_tz": 300
    },
    "id": "qCrOG61sqOdx"
   },
   "outputs": [],
   "source": [
    "#importing necessary libararies\n",
    "import pandas as pd\n",
    "import numpy as np\n",
    "import json\n",
    "import nltk\n",
    "import re\n",
    "import csv\n",
    "import matplotlib.pyplot as plt \n",
    "import seaborn as sns\n",
    "from tqdm import tqdm\n",
    "from sklearn.feature_extraction.text import TfidfVectorizer\n",
    "from sklearn.model_selection import train_test_split\n",
    "\n",
    "import itertools\n",
    "import collections\n",
    "from collections import Counter\n",
    "import seaborn as sns\n",
    "import matplotlib.pyplot as plt\n",
    "from wordcloud import WordCloud,STOPWORDS"
   ]
  },
  {
   "cell_type": "code",
   "execution_count": 3,
   "metadata": {
    "executionInfo": {
     "elapsed": 1648,
     "status": "ok",
     "timestamp": 1638459466844,
     "user": {
      "displayName": "Mathur Jayashan Shyam Shankar",
      "photoUrl": "https://lh3.googleusercontent.com/a/default-user=s64",
      "userId": "14853657899136104314"
     },
     "user_tz": 300
    },
    "id": "9Wan67N9qJtB"
   },
   "outputs": [],
   "source": [
    "#reading csv file\n",
    "corpus=pd.read_csv(\"/content/drive/MyDrive/DSF trials/preprocessed_annotated_data.csv\")"
   ]
  },
  {
   "cell_type": "markdown",
   "metadata": {
    "id": "q1O4gRsuwagt"
   },
   "source": [
    "### Text cleaning"
   ]
  },
  {
   "cell_type": "markdown",
   "metadata": {
    "id": "WSp--hUDwc_u"
   },
   "source": [
    "Stopword removal"
   ]
  },
  {
   "cell_type": "code",
   "execution_count": 6,
   "metadata": {
    "executionInfo": {
     "elapsed": 281,
     "status": "ok",
     "timestamp": 1638459521117,
     "user": {
      "displayName": "Mathur Jayashan Shyam Shankar",
      "photoUrl": "https://lh3.googleusercontent.com/a/default-user=s64",
      "userId": "14853657899136104314"
     },
     "user_tz": 300
    },
    "id": "U0yguiDfzCxW"
   },
   "outputs": [],
   "source": [
    "contractions = { \n",
    "\"ain't\": \"am not\",\n",
    "\"aren't\": \"are not\",\n",
    "\"can't\": \"cannot\",\n",
    "\"can't've\": \"cannot have\",\n",
    "\"'cause\": \"because\",\n",
    "\"could've\": \"could have\",\n",
    "\"couldn't\": \"could not\",\n",
    "\"couldn't've\": \"could not have\",\n",
    "\"didn't\": \"did not\",\n",
    "\"doesn't\": \"does not\",\n",
    "\"don't\": \"do not\",\n",
    "\"hadn't\": \"had not\",\n",
    "\"hadn't've\": \"had not have\",\n",
    "\"hasn't\": \"has not\",\n",
    "\"haven't\": \"have not\",\n",
    "\"he'd\": \"he would\",\n",
    "\"he'd've\": \"he would have\",\n",
    "\"he'll\": \"he will\",\n",
    "\"he's\": \"he is\",\n",
    "\"how'd\": \"how did\",\n",
    "\"how'll\": \"how will\",\n",
    "\"how's\": \"how is\",\n",
    "\"i'd\": \"i would\",\n",
    "\"i'll\": \"i will\",\n",
    "\"i'm\": \"i am\",\n",
    "\"i've\": \"i have\",\n",
    "\"isn't\": \"is not\",\n",
    "\"it'd\": \"it would\",\n",
    "\"it'll\": \"it will\",\n",
    "\"it's\": \"it is\",\n",
    "\"let's\": \"let us\",\n",
    "\"ma'am\": \"madam\",\n",
    "\"mayn't\": \"may not\",\n",
    "\"might've\": \"might have\",\n",
    "\"mightn't\": \"might not\",\n",
    "\"must've\": \"must have\",\n",
    "\"mustn't\": \"must not\",\n",
    "\"needn't\": \"need not\",\n",
    "\"oughtn't\": \"ought not\",\n",
    "\"shan't\": \"shall not\",\n",
    "\"sha'n't\": \"shall not\",\n",
    "\"she'd\": \"she would\",\n",
    "\"she'll\": \"she will\",\n",
    "\"she's\": \"she is\",\n",
    "\"should've\": \"should have\",\n",
    "\"shouldn't\": \"should not\",\n",
    "\"that'd\": \"that would\",\n",
    "\"that's\": \"that is\",\n",
    "\"there'd\": \"there had\",\n",
    "\"there's\": \"there is\",\n",
    "\"they'd\": \"they would\",\n",
    "\"they'll\": \"they will\",\n",
    "\"they're\": \"they are\",\n",
    "\"they've\": \"they have\",\n",
    "\"wasn't\": \"was not\",\n",
    "\"we'd\": \"we would\",\n",
    "\"we'll\": \"we will\",\n",
    "\"we're\": \"we are\",\n",
    "\"we've\": \"we have\",\n",
    "\"weren't\": \"were not\",\n",
    "\"what'll\": \"what will\",\n",
    "\"what're\": \"what are\",\n",
    "\"what's\": \"what is\",\n",
    "\"what've\": \"what have\",\n",
    "\"where'd\": \"where did\",\n",
    "\"where's\": \"where is\",\n",
    "\"who'll\": \"who will\",\n",
    "\"who's\": \"who is\",\n",
    "\"won't\": \"will not\",\n",
    "\"wouldn't\": \"would not\",\n",
    "\"you'd\": \"you would\",\n",
    "\"you'll\": \"you will\",\n",
    "\"you're\": \"you are\",\n",
    "\"thx\"   : \"thanks\"\n",
    "}\n",
    "\n",
    "def remove_contractions(text):\n",
    "    return contractions[text.lower()] if text.lower() in contractions.keys() else text\n",
    "\n",
    "# clean dataset\n",
    "def clean_dataset(text):\n",
    "    text = text.lower()\n",
    "    text = re.sub(r'#','', text)\n",
    "    text = re.sub(r'\\$\\w*', '', text)\n",
    "    text = re.sub(r'\\s\\s+','', text)\n",
    "    text = re.sub(r'[ ]{2, }',' ',text)\n",
    "    text=  re.sub(r'http(\\S)+', '',text)\n",
    "    text=  re.sub(r'http ...', '',text)\n",
    "    text=  re.sub(r'(RT|rt)[ ]*@[ ]*[\\S]+','',text)\n",
    "    text=  re.sub(r'RT[ ]?@','',text)\n",
    "    text = re.sub(r'@[\\S]+','',text)\n",
    "    text = re.sub(r'&amp;?', 'and',text)\n",
    "    text = re.sub(r'&lt;','<',text)\n",
    "    text = re.sub(r'&gt;','>',text)\n",
    "    text = re.sub(r'([\\w\\d]+)([^\\w\\d ]+)', '\\1 \\2',text)\n",
    "    text = re.sub(r'([^\\w\\d ]+)([\\w\\d]+)', '\\1 \\2',text)\n",
    "    text= ''.join(c for c in text if c <= '\\uFFFF') \n",
    "    text = text.strip()\n",
    "    text = ''.join(''.join(s)[:2] for _, s in itertools.groupby(text))\n",
    "    text = ' '.join(re.sub(\"[\\.\\,\\!\\?\\:\\;\\-\\=\\/\\|\\'\\(\\']\", \" \", text).split())\n",
    "    text = text.replace(\":\",\" \")\n",
    "    text = ' '.join(text.split()) \n",
    "    text = re.sub(\"([^\\x00-\\x7F])+\",\" \",text)\n",
    "    text = ' '.join(re.sub(\"[^\\u4e00-\\u9fa5\\u0030-\\u0039\\u0041-\\u005a\\u0061-\\u007a]\", \" \", text).split())\n",
    "    return text\n",
    "\n",
    "#remove stop word i.e. the most frequently appeared words \n",
    "myOwnStopList=['i', 'me', 'my', 'myself', 'we', 'our', 'ours', 'ourselves', 'you', 'your', 'yours', 'yourself', 'yourselves', 'he', 'him', 'his', 'himself', 'she', \"she's\", 'her', 'hers', 'herself', 'it', \"it's\", 'its', 'itself', 'they', 'them', 'their', 'theirs', 'themselves', 'what', 'which', 'who', 'whom', 'this', 'that', 'these', 'those', 'am', 'is', 'are', 'was', 'were', 'be', 'been', 'being', 'have', 'has', 'had', 'having', 'do', 'does', 'did', 'doing', 'a', 'an', 'the', 'and', 'but', 'if', 'or', 'because', 'as', 'until', 'while', 'of', 'at', 'by', 'for', 'with', 'about', 'against', 'between', 'into', 'through', 'during', 'before', 'after', 'above', 'below', 'to', 'from', 'up', 'down', 'in', 'out', 'on', 'off', 'over', 'under', 'again', 'further', 'then', 'once', 'here', 'there', 'when', 'where', 'why', 'what','how', 'all', 'any', 'both', 'each', 'few', 'more', 'most', 'other', 'some', 'such', 'no', 'nor', 'not', 'only', 'own', 'same', 'so', 'than', 'too', 'very', 's', 't', 'can', 'will', 'just', 'do', 'should', \"should\", 'now', 'd', 'm', 'o', 're', 've', 'y', 'ain', \"are\", 'could', \"was\",\n",
    "'would','have','get','got','getting','one','two','still','going']\n"
   ]
  },
  {
   "cell_type": "code",
   "execution_count": 7,
   "metadata": {
    "executionInfo": {
     "elapsed": 22726,
     "status": "ok",
     "timestamp": 1638459585891,
     "user": {
      "displayName": "Mathur Jayashan Shyam Shankar",
      "photoUrl": "https://lh3.googleusercontent.com/a/default-user=s64",
      "userId": "14853657899136104314"
     },
     "user_tz": 300
    },
    "id": "64tem33pzH8Y"
   },
   "outputs": [],
   "source": [
    "corpus['clean_plot_summary']=corpus['clean_plot_summary'].apply(lambda x: remove_contractions(str(x)))\n",
    "\n",
    "corpus['clean_plot_summary'] =corpus['clean_plot_summary'].apply(lambda x: clean_dataset(x))\n",
    "corpus['clean_plot_summary'] = corpus['clean_plot_summary'].apply(lambda x: ' '.join([word for word in x.split() if word not in (myOwnStopList)]))"
   ]
  },
  {
   "cell_type": "markdown",
   "metadata": {
    "id": "yZqhE1BOwzIf"
   },
   "source": [
    "Tuning the output for calling multilabel classification"
   ]
  },
  {
   "cell_type": "code",
   "execution_count": 9,
   "metadata": {
    "executionInfo": {
     "elapsed": 359,
     "status": "ok",
     "timestamp": 1638459686791,
     "user": {
      "displayName": "Mathur Jayashan Shyam Shankar",
      "photoUrl": "https://lh3.googleusercontent.com/a/default-user=s64",
      "userId": "14853657899136104314"
     },
     "user_tz": 300
    },
    "id": "Sv0Rurg3s7MR"
   },
   "outputs": [],
   "source": [
    "import ast\n",
    "corpus['multi_label_genre']=corpus['multi_label_genre'].apply(lambda x: ast.literal_eval(x))"
   ]
  },
  {
   "cell_type": "markdown",
   "metadata": {
    "id": "d2lHiMMXwoeC"
   },
   "source": [
    "### Multilabel classification output transformation"
   ]
  },
  {
   "cell_type": "markdown",
   "metadata": {
    "id": "b00-OTenwtL8"
   },
   "source": [
    "Calling in Multilabelbinarizer"
   ]
  },
  {
   "cell_type": "code",
   "execution_count": 10,
   "metadata": {
    "executionInfo": {
     "elapsed": 184,
     "status": "ok",
     "timestamp": 1638459698703,
     "user": {
      "displayName": "Mathur Jayashan Shyam Shankar",
      "photoUrl": "https://lh3.googleusercontent.com/a/default-user=s64",
      "userId": "14853657899136104314"
     },
     "user_tz": 300
    },
    "id": "twvNGvydrnfX"
   },
   "outputs": [],
   "source": [
    "from sklearn.preprocessing import MultiLabelBinarizer\n",
    "\n",
    "multilabel_binarizer = MultiLabelBinarizer()\n",
    "\n",
    "# transform target variable\n",
    "y = multilabel_binarizer.fit_transform(corpus['multi_label_genre'])"
   ]
  },
  {
   "cell_type": "code",
   "execution_count": 11,
   "metadata": {
    "colab": {
     "base_uri": "https://localhost:8080/"
    },
    "executionInfo": {
     "elapsed": 159,
     "status": "ok",
     "timestamp": 1638459700050,
     "user": {
      "displayName": "Mathur Jayashan Shyam Shankar",
      "photoUrl": "https://lh3.googleusercontent.com/a/default-user=s64",
      "userId": "14853657899136104314"
     },
     "user_tz": 300
    },
    "id": "z00zFyh3sbgT",
    "outputId": "d897247b-1961-415e-9851-db381f4c689c"
   },
   "outputs": [
    {
     "name": "stdout",
     "output_type": "stream",
     "text": [
      "(13132, 30)\n"
     ]
    }
   ],
   "source": [
    "print(y.shape)"
   ]
  },
  {
   "cell_type": "code",
   "execution_count": 12,
   "metadata": {
    "executionInfo": {
     "elapsed": 153,
     "status": "ok",
     "timestamp": 1638459704788,
     "user": {
      "displayName": "Mathur Jayashan Shyam Shankar",
      "photoUrl": "https://lh3.googleusercontent.com/a/default-user=s64",
      "userId": "14853657899136104314"
     },
     "user_tz": 300
    },
    "id": "wV5GBiSFwDyb"
   },
   "outputs": [],
   "source": [
    "x=corpus['clean_plot_summary']"
   ]
  },
  {
   "cell_type": "code",
   "execution_count": 13,
   "metadata": {
    "colab": {
     "base_uri": "https://localhost:8080/"
    },
    "executionInfo": {
     "elapsed": 149,
     "status": "ok",
     "timestamp": 1638459706358,
     "user": {
      "displayName": "Mathur Jayashan Shyam Shankar",
      "photoUrl": "https://lh3.googleusercontent.com/a/default-user=s64",
      "userId": "14853657899136104314"
     },
     "user_tz": 300
    },
    "id": "LrY8_hjAwP0y",
    "outputId": "94231cfc-af8b-4f3d-9121-b9403585dfb2"
   },
   "outputs": [
    {
     "name": "stdout",
     "output_type": "stream",
     "text": [
      "(13132,)\n"
     ]
    }
   ],
   "source": [
    "print(x.shape)"
   ]
  },
  {
   "cell_type": "markdown",
   "metadata": {
    "id": "LwWDviPxxOHN"
   },
   "source": [
    "### Train Test split"
   ]
  },
  {
   "cell_type": "code",
   "execution_count": 14,
   "metadata": {
    "executionInfo": {
     "elapsed": 160,
     "status": "ok",
     "timestamp": 1638459709769,
     "user": {
      "displayName": "Mathur Jayashan Shyam Shankar",
      "photoUrl": "https://lh3.googleusercontent.com/a/default-user=s64",
      "userId": "14853657899136104314"
     },
     "user_tz": 300
    },
    "id": "-RdVBti3wQqc"
   },
   "outputs": [],
   "source": [
    "xtrain, xtest, ytrain, ytest = train_test_split(x, y, test_size=0.2, random_state=42)"
   ]
  },
  {
   "cell_type": "markdown",
   "metadata": {
    "id": "cAgis_GyxRmh"
   },
   "source": [
    "### Feature transformation"
   ]
  },
  {
   "cell_type": "code",
   "execution_count": 15,
   "metadata": {
    "executionInfo": {
     "elapsed": 148,
     "status": "ok",
     "timestamp": 1638459712715,
     "user": {
      "displayName": "Mathur Jayashan Shyam Shankar",
      "photoUrl": "https://lh3.googleusercontent.com/a/default-user=s64",
      "userId": "14853657899136104314"
     },
     "user_tz": 300
    },
    "id": "1h_YSxWIxJsK"
   },
   "outputs": [],
   "source": [
    "from sklearn.feature_extraction.text import CountVectorizer\n",
    "from sklearn.feature_extraction.text import TfidfVectorizer\n",
    "vect = TfidfVectorizer(max_features=15000,stop_words='english')\n"
   ]
  },
  {
   "cell_type": "code",
   "execution_count": 16,
   "metadata": {
    "executionInfo": {
     "elapsed": 3051,
     "status": "ok",
     "timestamp": 1638459717172,
     "user": {
      "displayName": "Mathur Jayashan Shyam Shankar",
      "photoUrl": "https://lh3.googleusercontent.com/a/default-user=s64",
      "userId": "14853657899136104314"
     },
     "user_tz": 300
    },
    "id": "hJph2BnkxXNf"
   },
   "outputs": [],
   "source": [
    "xtrain = vect.fit_transform(xtrain)\n",
    "xtest=vect.transform(xtest)"
   ]
  },
  {
   "cell_type": "code",
   "execution_count": 17,
   "metadata": {
    "colab": {
     "base_uri": "https://localhost:8080/"
    },
    "executionInfo": {
     "elapsed": 160,
     "status": "ok",
     "timestamp": 1638459719363,
     "user": {
      "displayName": "Mathur Jayashan Shyam Shankar",
      "photoUrl": "https://lh3.googleusercontent.com/a/default-user=s64",
      "userId": "14853657899136104314"
     },
     "user_tz": 300
    },
    "id": "OjliSrIXxpnQ",
    "outputId": "bf7713ab-0895-45ab-a4c2-762494244e22"
   },
   "outputs": [
    {
     "name": "stdout",
     "output_type": "stream",
     "text": [
      "(10505, 15000)\n",
      "(2627, 15000)\n"
     ]
    }
   ],
   "source": [
    "print(xtrain.shape)\n",
    "print(xtest.shape)"
   ]
  },
  {
   "cell_type": "markdown",
   "metadata": {
    "id": "uQthg9cqyUPE"
   },
   "source": [
    "Binary Relevance "
   ]
  },
  {
   "cell_type": "code",
   "execution_count": 18,
   "metadata": {
    "executionInfo": {
     "elapsed": 349,
     "status": "ok",
     "timestamp": 1638459748200,
     "user": {
      "displayName": "Mathur Jayashan Shyam Shankar",
      "photoUrl": "https://lh3.googleusercontent.com/a/default-user=s64",
      "userId": "14853657899136104314"
     },
     "user_tz": 300
    },
    "id": "fm4hGHZAxtlP"
   },
   "outputs": [],
   "source": [
    "# import and instantiate the Logistic Regression model\n",
    "from sklearn.linear_model import LogisticRegression\n",
    "from sklearn.metrics import accuracy_score\n",
    "logreg = LogisticRegression(C=12.0)\n",
    "from sklearn.ensemble import RandomForestClassifier\n",
    "model_br=RandomForestClassifier()\n",
    "model_cc=RandomForestClassifier()\n",
    "\n"
   ]
  },
  {
   "cell_type": "code",
   "execution_count": 19,
   "metadata": {
    "executionInfo": {
     "elapsed": 170,
     "status": "ok",
     "timestamp": 1638459749924,
     "user": {
      "displayName": "Mathur Jayashan Shyam Shankar",
      "photoUrl": "https://lh3.googleusercontent.com/a/default-user=s64",
      "userId": "14853657899136104314"
     },
     "user_tz": 300
    },
    "id": "ycTb_2hlzjnJ"
   },
   "outputs": [],
   "source": [
    "predictions = pd.DataFrame()"
   ]
  },
  {
   "cell_type": "code",
   "execution_count": 21,
   "metadata": {
    "colab": {
     "base_uri": "https://localhost:8080/"
    },
    "executionInfo": {
     "elapsed": 460424,
     "status": "ok",
     "timestamp": 1638460315627,
     "user": {
      "displayName": "Mathur Jayashan Shyam Shankar",
      "photoUrl": "https://lh3.googleusercontent.com/a/default-user=s64",
      "userId": "14853657899136104314"
     },
     "user_tz": 300
    },
    "id": "S3UnwBNPyz6L",
    "outputId": "9796c525-36bc-4c23-91c1-7e1ec8e47f07"
   },
   "outputs": [
    {
     "name": "stderr",
     "output_type": "stream",
     "text": [
      "100%|██████████| 30/30 [07:40<00:00, 15.34s/it]\n"
     ]
    }
   ],
   "source": [
    "from tqdm import tqdm\n",
    "for i in tqdm(range(y.shape[1])):\n",
    "    ytrain_i = ytrain[:,i]\n",
    "    label=\"genre\"+str(i)\n",
    "    \n",
    "    # train the model using xtrain & this particular genre(y[:,i])\n",
    "    model_br.fit(xtrain, ytrain_i)\n",
    "    \n",
    "    # compute the training accuracy\n",
    "    ypred_i = model_br.predict(xtest)\n",
    "    \n",
    "    # compute the predicted probabilities for xtest\n",
    "    test_y_prob = model_br.predict_proba(xtest)[:,0]\n",
    "    predictions[label] = 1.0-test_y_prob"
   ]
  },
  {
   "cell_type": "markdown",
   "metadata": {
    "id": "43Cgp9dQ8wA7"
   },
   "source": [
    "Classifier Chains"
   ]
  },
  {
   "cell_type": "code",
   "execution_count": 22,
   "metadata": {
    "executionInfo": {
     "elapsed": 366,
     "status": "ok",
     "timestamp": 1638460321072,
     "user": {
      "displayName": "Mathur Jayashan Shyam Shankar",
      "photoUrl": "https://lh3.googleusercontent.com/a/default-user=s64",
      "userId": "14853657899136104314"
     },
     "user_tz": 300
    },
    "id": "bt1sHE3s0oIe"
   },
   "outputs": [],
   "source": [
    "def add_feature(X, feature_to_add):\n",
    "    '''\n",
    "    Returns sparse feature matrix with added feature.\n",
    "    feature_to_add can also be a list of features.\n",
    "    '''\n",
    "    from scipy.sparse import csr_matrix, hstack\n",
    "    return hstack([X, csr_matrix(feature_to_add).T], 'csr')"
   ]
  },
  {
   "cell_type": "code",
   "execution_count": 23,
   "metadata": {
    "executionInfo": {
     "elapsed": 276,
     "status": "ok",
     "timestamp": 1638460324504,
     "user": {
      "displayName": "Mathur Jayashan Shyam Shankar",
      "photoUrl": "https://lh3.googleusercontent.com/a/default-user=s64",
      "userId": "14853657899136104314"
     },
     "user_tz": 300
    },
    "id": "RUehfbVB1DK-"
   },
   "outputs": [],
   "source": [
    "predictions2 = pd.DataFrame()"
   ]
  },
  {
   "cell_type": "code",
   "execution_count": 25,
   "metadata": {
    "colab": {
     "base_uri": "https://localhost:8080/"
    },
    "executionInfo": {
     "elapsed": 470507,
     "status": "ok",
     "timestamp": 1638460811674,
     "user": {
      "displayName": "Mathur Jayashan Shyam Shankar",
      "photoUrl": "https://lh3.googleusercontent.com/a/default-user=s64",
      "userId": "14853657899136104314"
     },
     "user_tz": 300
    },
    "id": "vxfNCpGg9WRx",
    "outputId": "ba645c7f-c87d-4b64-f0cc-12d8724d25aa"
   },
   "outputs": [
    {
     "name": "stderr",
     "output_type": "stream",
     "text": [
      "100%|██████████| 30/30 [07:50<00:00, 15.68s/it]\n"
     ]
    }
   ],
   "source": [
    "for i in tqdm(range(y.shape[1])):\n",
    "    ytrain_i = ytrain[:,i]\n",
    "    label=\"genre\"+str(i)\n",
    "    \n",
    "    # train the model using xtrain & this particular genre(y[:,i])\n",
    "    model_cc.fit(xtrain, ytrain_i)\n",
    "    \n",
    "    # compute the training accuracy\n",
    "    y_pred_train_i=model_cc.predict(xtrain)\n",
    "    ypred_i = model_cc.predict(xtest)\n",
    "    \n",
    "    # compute the predicted probabilities for xtest\n",
    "    test_y_prob = model_cc.predict_proba(xtest)[:,0]\n",
    "    predictions2[label] = 1.0-test_y_prob\n",
    "    add_feature(xtrain,y_pred_train_i)\n",
    "    add_feature(xtest,ypred_i)\n",
    "    "
   ]
  },
  {
   "cell_type": "markdown",
   "metadata": {
    "id": "EFL-tSxaBUb2"
   },
   "source": [
    "Merging results of Binary Relevance and Classifier Chaining"
   ]
  },
  {
   "cell_type": "code",
   "execution_count": 26,
   "metadata": {
    "executionInfo": {
     "elapsed": 150,
     "status": "ok",
     "timestamp": 1638460833048,
     "user": {
      "displayName": "Mathur Jayashan Shyam Shankar",
      "photoUrl": "https://lh3.googleusercontent.com/a/default-user=s64",
      "userId": "14853657899136104314"
     },
     "user_tz": 300
    },
    "id": "_uT5yaoHBSxQ"
   },
   "outputs": [],
   "source": [
    "final_y_test_pred=predictions+predictions2"
   ]
  },
  {
   "cell_type": "code",
   "execution_count": 27,
   "metadata": {
    "executionInfo": {
     "elapsed": 146,
     "status": "ok",
     "timestamp": 1638460835123,
     "user": {
      "displayName": "Mathur Jayashan Shyam Shankar",
      "photoUrl": "https://lh3.googleusercontent.com/a/default-user=s64",
      "userId": "14853657899136104314"
     },
     "user_tz": 300
    },
    "id": "bPO9Mg-DBqok"
   },
   "outputs": [],
   "source": [
    "res=final_y_test_pred.to_numpy()\n",
    "res1=final_y_test_pred.to_numpy()"
   ]
  },
  {
   "cell_type": "code",
   "execution_count": 28,
   "metadata": {
    "colab": {
     "base_uri": "https://localhost:8080/"
    },
    "executionInfo": {
     "elapsed": 151,
     "status": "ok",
     "timestamp": 1638460836656,
     "user": {
      "displayName": "Mathur Jayashan Shyam Shankar",
      "photoUrl": "https://lh3.googleusercontent.com/a/default-user=s64",
      "userId": "14853657899136104314"
     },
     "user_tz": 300
    },
    "id": "5-0gpzmjCC_5",
    "outputId": "c3c5c659-625c-40da-b821-667e8bfa4d03"
   },
   "outputs": [
    {
     "data": {
      "text/plain": [
       "array([0, 1, 0, 0, 0, 0, 0, 0, 0, 0, 0, 0, 0, 0, 0, 1, 0, 0, 1, 0, 0, 0,\n",
       "       0, 0, 0, 0, 0, 0, 0, 0])"
      ]
     },
     "execution_count": 28,
     "metadata": {},
     "output_type": "execute_result"
    }
   ],
   "source": [
    "ytest[1]"
   ]
  },
  {
   "cell_type": "code",
   "execution_count": 29,
   "metadata": {
    "colab": {
     "base_uri": "https://localhost:8080/"
    },
    "executionInfo": {
     "elapsed": 144,
     "status": "ok",
     "timestamp": 1638460839989,
     "user": {
      "displayName": "Mathur Jayashan Shyam Shankar",
      "photoUrl": "https://lh3.googleusercontent.com/a/default-user=s64",
      "userId": "14853657899136104314"
     },
     "user_tz": 300
    },
    "id": "VWaqjIyuC_65",
    "outputId": "1a8dc8de-2bed-450e-c105-a35d1057b7aa"
   },
   "outputs": [
    {
     "data": {
      "text/plain": [
       "array([0.36, 0.41, 0.53, 0.04, 0.01, 0.15, 0.04, 0.04, 0.02, 0.12, 0.  ,\n",
       "       0.04, 0.03, 0.03, 0.4 , 0.73, 0.05, 0.  , 0.96, 0.  , 0.51, 0.24,\n",
       "       0.03, 0.01, 0.05, 0.01, 0.03, 0.46, 0.39, 0.13])"
      ]
     },
     "execution_count": 29,
     "metadata": {},
     "output_type": "execute_result"
    }
   ],
   "source": [
    "res[1]"
   ]
  },
  {
   "cell_type": "markdown",
   "metadata": {
    "id": "q7nRqPYeO7b5"
   },
   "source": [
    "### Converting logits into binary probabilities"
   ]
  },
  {
   "cell_type": "code",
   "execution_count": 30,
   "metadata": {
    "executionInfo": {
     "elapsed": 146,
     "status": "ok",
     "timestamp": 1638460872826,
     "user": {
      "displayName": "Mathur Jayashan Shyam Shankar",
      "photoUrl": "https://lh3.googleusercontent.com/a/default-user=s64",
      "userId": "14853657899136104314"
     },
     "user_tz": 300
    },
    "id": "BrK8zIjjEY27"
   },
   "outputs": [],
   "source": [
    "for i in range(res.shape[0]):\n",
    "  for j in range(res.shape[1]):\n",
    "    if res[i][j]>0.5:\n",
    "      res[i][j]=1\n",
    "    else:\n",
    "      res[i][j]=0"
   ]
  },
  {
   "cell_type": "markdown",
   "metadata": {
    "id": "CiBpW7q_PBO3"
   },
   "source": [
    "### Inference"
   ]
  },
  {
   "cell_type": "code",
   "execution_count": 32,
   "metadata": {
    "colab": {
     "base_uri": "https://localhost:8080/"
    },
    "executionInfo": {
     "elapsed": 1088,
     "status": "ok",
     "timestamp": 1638460890980,
     "user": {
      "displayName": "Mathur Jayashan Shyam Shankar",
      "photoUrl": "https://lh3.googleusercontent.com/a/default-user=s64",
      "userId": "14853657899136104314"
     },
     "user_tz": 300
    },
    "id": "l2h58QAKFCGi",
    "outputId": "1a697337-0ba8-47f2-d9b7-4c93d962d5c0"
   },
   "outputs": [
    {
     "name": "stdout",
     "output_type": "stream",
     "text": [
      "\n",
      " trial 0 \n",
      "Actual:  ('fiction', 'literature', 'nonfiction')\n",
      "Predicted:  ('children', 'fiction', 'literature', 'nonfiction', 'romance')\n",
      "\n",
      " trial 1 \n",
      "Actual:  ('adventure', 'fiction', 'literature')\n",
      "Predicted:  ('anthropology', 'fiction', 'literature', 'mystery')\n",
      "\n",
      " trial 2 \n",
      "Actual:  ('biography', 'business', 'fantasy')\n",
      "Predicted:  ('adventure', 'biography', 'history', 'literature', 'nonfiction')\n",
      "\n",
      " trial 3 \n",
      "Actual:  ('fiction', 'literature', 'nonfiction')\n",
      "Predicted:  ('adventure', 'fiction', 'literature', 'nonfiction', 'romance')\n",
      "\n",
      " trial 4 \n",
      "Actual:  ('environmental', 'history', 'utopian')\n",
      "Predicted:  ('adventure', 'documentary', 'fiction', 'literature')\n",
      "\n",
      " trial 5 \n",
      "Actual:  ('fiction', 'literature', 'nonfiction')\n",
      "Predicted:  ('fiction', 'literature', 'nonfiction')\n",
      "\n",
      " trial 6 \n",
      "Actual:  ('fiction', 'nonfiction', 'thriller')\n",
      "Predicted:  ('adventure', 'fiction', 'literature', 'nonfiction', 'thriller')\n",
      "\n",
      " trial 7 \n",
      "Actual:  ('fiction', 'literature', 'utopian')\n",
      "Predicted:  ('action', 'fiction', 'literature', 'utopian')\n",
      "\n",
      " trial 8 \n",
      "Actual:  ('adventure', 'literature', 'nonfiction')\n",
      "Predicted:  ('adventure', 'fiction', 'literature', 'nonfiction')\n",
      "\n",
      " trial 9 \n",
      "Actual:  ('children', 'fantasy', 'romance')\n",
      "Predicted:  ('adventure', 'fantasy', 'literature')\n",
      "\n",
      " trial 10 \n",
      "Actual:  ('environmental', 'philosophy', 'religious')\n",
      "Predicted:  ('fiction', 'literature', 'religious')\n",
      "\n",
      " trial 11 \n",
      "Actual:  ('biography', 'fiction', 'literature')\n",
      "Predicted:  ('anthropology', 'fiction', 'literature', 'nonfiction', 'philosophy')\n",
      "\n",
      " trial 12 \n",
      "Actual:  ('children', 'comedy', 'romance')\n",
      "Predicted:  ('literature',)\n",
      "\n",
      " trial 13 \n",
      "Actual:  ('erotica', 'mystery', 'thriller')\n",
      "Predicted:  ('literature', 'thriller')\n",
      "\n",
      " trial 14 \n",
      "Actual:  ('fiction', 'literature', 'thriller')\n",
      "Predicted:  ('adventure', 'fiction', 'literature')\n",
      "\n",
      " trial 15 \n",
      "Actual:  ('fiction', 'literature', 'nonfiction')\n",
      "Predicted:  ('fiction', 'literature', 'nonfiction')\n",
      "\n",
      " trial 16 \n",
      "Actual:  ('action', 'horror', 'war')\n",
      "Predicted:  ('action', 'horror', 'war')\n",
      "\n",
      " trial 17 \n",
      "Actual:  ('biography', 'children', 'literature')\n",
      "Predicted:  ('comedy', 'literature')\n",
      "\n",
      " trial 18 \n",
      "Actual:  ('horror', 'mystery', 'thriller')\n",
      "Predicted:  ('fiction', 'literature', 'mystery', 'thriller')\n",
      "\n",
      " trial 19 \n",
      "Actual:  ('adventure', 'fiction', 'literature')\n",
      "Predicted:  ('adventure', 'fiction', 'literature')\n",
      "\n",
      " trial 20 \n",
      "Actual:  ('biography', 'nonfiction', 'thriller')\n",
      "Predicted:  ('documentary', 'fiction', 'literature')\n",
      "\n",
      " trial 21 \n",
      "Actual:  ('fantasy', 'thriller', 'war')\n",
      "Predicted:  ('adventure', 'fantasy', 'fiction', 'literature', 'thriller')\n",
      "\n",
      " trial 22 \n",
      "Actual:  ('adventure', 'anthropology', 'literature')\n",
      "Predicted:  ('adventure', 'anthropology', 'fiction', 'literature', 'nonfiction')\n",
      "\n",
      " trial 23 \n",
      "Actual:  ('biography', 'fiction', 'utopian')\n",
      "Predicted:  ('adventure', 'fiction', 'literature', 'nonfiction')\n",
      "\n",
      " trial 24 \n",
      "Actual:  ('adventure', 'comic', 'mystery')\n",
      "Predicted:  ('literature', 'nonfiction', 'thriller')\n",
      "\n",
      " trial 25 \n",
      "Actual:  ('adventure', 'erotica', 'fantasy')\n",
      "Predicted:  ('fantasy',)\n",
      "\n",
      " trial 26 \n",
      "Actual:  ('adventure', 'literature', 'thriller')\n",
      "Predicted:  ('adventure', 'literature', 'nonfiction')\n",
      "\n",
      " trial 27 \n",
      "Actual:  ('anthropology', 'literature', 'mystery')\n",
      "Predicted:  ('literature', 'nonfiction')\n",
      "\n",
      " trial 28 \n",
      "Actual:  ('adventure', 'children', 'fantasy')\n",
      "Predicted:  ('adventure', 'literature')\n",
      "\n",
      " trial 29 \n",
      "Actual:  ('biography', 'literature', 'music')\n",
      "Predicted:  ('fiction', 'literature')\n",
      "\n",
      " trial 30 \n",
      "Actual:  ('biography', 'nonfiction', 'war')\n",
      "Predicted:  ('anthropology', 'fiction', 'literature', 'nonfiction')\n",
      "\n",
      " trial 31 \n",
      "Actual:  ('fiction', 'literature', 'sorrow')\n",
      "Predicted:  ('adventure', 'fiction', 'literature', 'nonfiction', 'thriller')\n",
      "\n",
      " trial 32 \n",
      "Actual:  ('action', 'anthropology', 'utopian')\n",
      "Predicted:  ('literature',)\n",
      "\n",
      " trial 33 \n",
      "Actual:  ('biography', 'fiction', 'literature')\n",
      "Predicted:  ('fiction', 'literature')\n",
      "\n",
      " trial 34 \n",
      "Actual:  ('adventure', 'anthropology', 'mystery')\n",
      "Predicted:  ('literature', 'mystery', 'thriller')\n",
      "\n",
      " trial 35 \n",
      "Actual:  ('adventure', 'children', 'mystery')\n",
      "Predicted:  ('adventure', 'children', 'literature', 'thriller')\n",
      "\n",
      " trial 36 \n",
      "Actual:  ('anthropology', 'biography', 'literature')\n",
      "Predicted:  ('fantasy', 'thriller')\n",
      "\n",
      " trial 37 \n",
      "Actual:  ('fantasy', 'mystery', 'thriller')\n",
      "Predicted:  ('adventure', 'literature', 'nonfiction', 'thriller')\n",
      "\n",
      " trial 38 \n",
      "Actual:  ('adventure', 'history', 'thriller')\n",
      "Predicted:  ('adventure', 'utopian', 'war')\n",
      "\n",
      " trial 39 \n",
      "Actual:  ('fiction', 'literature', 'utopian')\n",
      "Predicted:  ('adventure', 'literature', 'thriller')\n",
      "\n",
      " trial 40 \n",
      "Actual:  ('adventure', 'literature', 'thriller')\n",
      "Predicted:  ('fiction', 'literature')\n",
      "\n",
      " trial 41 \n",
      "Actual:  ('adventure', 'literature', 'mystery')\n",
      "Predicted:  ('adventure', 'literature')\n",
      "\n",
      " trial 42 \n",
      "Actual:  ('adventure', 'literature', 'nonfiction')\n",
      "Predicted:  ('fiction', 'literature', 'nonfiction')\n",
      "\n",
      " trial 43 \n",
      "Actual:  ('biography', 'children', 'literature')\n",
      "Predicted:  ('literature',)\n",
      "\n",
      " trial 44 \n",
      "Actual:  ('children', 'fiction', 'mystery')\n",
      "Predicted:  ('adventure', 'children', 'literature', 'mystery')\n",
      "\n",
      " trial 45 \n",
      "Actual:  ('literature', 'nonfiction', 'thriller')\n",
      "Predicted:  ('fiction', 'literature', 'nonfiction', 'thriller')\n",
      "\n",
      " trial 46 \n",
      "Actual:  ('documentary', 'literature', 'war')\n",
      "Predicted:  ('fiction', 'literature', 'nonfiction', 'thriller')\n",
      "\n",
      " trial 47 \n",
      "Actual:  ('fiction', 'literature', 'nonfiction')\n",
      "Predicted:  ('biography', 'children', 'fiction', 'literature', 'nonfiction')\n",
      "\n",
      " trial 48 \n",
      "Actual:  ('anthropology', 'religious', 'utopian')\n",
      "Predicted:  ('anthropology', 'fantasy', 'fiction', 'literature', 'thriller', 'utopian')\n",
      "\n",
      " trial 49 \n",
      "Actual:  ('action', 'history', 'war')\n",
      "Predicted:  ('fiction', 'literature')\n"
     ]
    }
   ],
   "source": [
    "for i in range(0,50):\n",
    "  print(\"\\n trial {} \".format(i))\n",
    "  print(\"Actual: \",multilabel_binarizer.inverse_transform(ytest)[i])\n",
    "  print(\"Predicted: \",multilabel_binarizer.inverse_transform(res)[i])\n",
    "\n"
   ]
  },
  {
   "cell_type": "code",
   "execution_count": 33,
   "metadata": {
    "executionInfo": {
     "elapsed": 153,
     "status": "ok",
     "timestamp": 1638460974083,
     "user": {
      "displayName": "Mathur Jayashan Shyam Shankar",
      "photoUrl": "https://lh3.googleusercontent.com/a/default-user=s64",
      "userId": "14853657899136104314"
     },
     "user_tz": 300
    },
    "id": "fqrg0KYsQv7x"
   },
   "outputs": [],
   "source": [
    "def Accuracy(y_true, y_pred):\n",
    "    temp = 0\n",
    "    for i in range(y_true.shape[0]):\n",
    "        temp += sum(np.logical_and(y_true[i], y_pred[i])) / sum(np.logical_or(y_true[i], y_pred[i]))\n",
    "    return temp / y_true.shape[0]\n",
    "\n",
    "def Precision(y_true, y_pred):\n",
    "      temp = 0\n",
    "      for i in range(y_true.shape[0]):\n",
    "          if sum(y_true[i]) == 0:\n",
    "              continue\n",
    "          temp+= sum(np.logical_and(y_true[i], y_pred[i]))/ sum(y_true[i])\n",
    "      return temp/ y_true.shape[0]\n",
    "\n",
    "def Recall(y_true, y_pred):\n",
    "      temp = 0\n",
    "      for i in range(y_true.shape[0]):\n",
    "          if sum(y_pred[i]) == 0:\n",
    "              continue\n",
    "          temp+= sum(np.logical_and(y_true[i], y_pred[i]))/ sum(y_pred[i])\n",
    "      return temp/ y_true.shape[0]\n",
    "\n",
    "def F1Measure(y_true, y_pred):\n",
    "    temp = 0\n",
    "    for i in range(y_true.shape[0]):\n",
    "        if (sum(y_true[i]) == 0) and (sum(y_pred[i]) == 0):\n",
    "            continue\n",
    "        temp+= (2*sum(np.logical_and(y_true[i], y_pred[i])))/ (sum(y_true[i])+sum(y_pred[i]))\n",
    "    return temp/ y_true.shape[0]\n",
    "    \n",
    "    print(F1Measure(y_true, y_pred))\n",
    "    \n",
    "def Hamming_Loss(y_true, y_pred):\n",
    "    temp=0\n",
    "    for i in range(y_true.shape[0]):\n",
    "        temp += np.size(y_true[i] == y_pred[i]) - np.count_nonzero(y_true[i] == y_pred[i])\n",
    "    return temp/(y_true.shape[0] * y_true.shape[1])\n",
    "\n"
   ]
  },
  {
   "cell_type": "code",
   "execution_count": 34,
   "metadata": {
    "colab": {
     "base_uri": "https://localhost:8080/"
    },
    "executionInfo": {
     "elapsed": 1835,
     "status": "ok",
     "timestamp": 1638460978641,
     "user": {
      "displayName": "Mathur Jayashan Shyam Shankar",
      "photoUrl": "https://lh3.googleusercontent.com/a/default-user=s64",
      "userId": "14853657899136104314"
     },
     "user_tz": 300
    },
    "id": "1_uIZCwq3Vj1",
    "outputId": "0adde70d-08a1-46ec-bf5a-033fc2ddb87a"
   },
   "outputs": [
    {
     "name": "stdout",
     "output_type": "stream",
     "text": [
      "\n",
      " Accuracy:  0.3609825757713091\n",
      "\n",
      " Precision:  0.52328384722751\n",
      "\n",
      " Recall:  0.4739849278581678\n",
      "\n",
      " F1 Measure:  0.47859543282078537\n",
      "\n",
      " Hamming Loss: :  0.10721989595229031\n"
     ]
    }
   ],
   "source": [
    "print(\"\\n Accuracy: \",Accuracy(ytest,res1))\n",
    "print(\"\\n Precision: \",Precision(ytest,res1))\n",
    "print(\"\\n Recall: \",Recall(ytest,res1))\n",
    "print(\"\\n F1 Measure: \",F1Measure(ytest,res1))\n",
    "print(\"\\n Hamming Loss: : \",Hamming_Loss(ytest,res1))"
   ]
  },
  {
   "cell_type": "markdown",
   "metadata": {
    "id": "bYYWIrJ23kuc"
   },
   "source": [
    "Saving learned models"
   ]
  },
  {
   "cell_type": "code",
   "execution_count": 35,
   "metadata": {
    "executionInfo": {
     "elapsed": 510,
     "status": "ok",
     "timestamp": 1638460987388,
     "user": {
      "displayName": "Mathur Jayashan Shyam Shankar",
      "photoUrl": "https://lh3.googleusercontent.com/a/default-user=s64",
      "userId": "14853657899136104314"
     },
     "user_tz": 300
    },
    "id": "cvJg6vDE3b2b"
   },
   "outputs": [],
   "source": [
    "import pickle\n",
    "filename = '/content/drive/MyDrive/DSF trials/classifier_models/tf_idf_binary_relevance_model.sav'\n",
    "pickle.dump(model_br, open(filename, 'wb'))\n",
    "\n",
    "filename = '/content/drive/MyDrive/DSF trials/classifier_models/tf_idf_classifier_chain_model.sav'\n",
    "pickle.dump(model_cc, open(filename, 'wb'))"
   ]
  },
  {
   "cell_type": "code",
   "execution_count": null,
   "metadata": {
    "id": "TOvXkKhY7a_L"
   },
   "outputs": [],
   "source": []
  }
 ],
 "metadata": {
  "colab": {
   "name": "TF-idf dsf_multilabel_classification.ipynb",
   "provenance": [
    {
     "file_id": "10zRDpudH5zECs6MvTUr-ZXA7mJhgmbJQ",
     "timestamp": 1638417188024
    }
   ]
  },
  "kernelspec": {
   "display_name": "Python 3",
   "language": "python",
   "name": "python3"
  },
  "language_info": {
   "codemirror_mode": {
    "name": "ipython",
    "version": 3
   },
   "file_extension": ".py",
   "mimetype": "text/x-python",
   "name": "python",
   "nbconvert_exporter": "python",
   "pygments_lexer": "ipython3",
   "version": "3.8.8"
  }
 },
 "nbformat": 4,
 "nbformat_minor": 1
}
